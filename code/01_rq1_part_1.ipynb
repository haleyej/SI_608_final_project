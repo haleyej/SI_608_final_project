{
 "cells": [
  {
   "cell_type": "markdown",
   "id": "6409d2d5-5a25-41ff-a7a5-4f1c0e20af15",
   "metadata": {},
   "source": [
    "<h1>SI 608 Final Project</h1>"
   ]
  },
  {
   "cell_type": "code",
   "execution_count": 1,
   "id": "9c353639-28a6-405d-93f2-92dae1428bdf",
   "metadata": {},
   "outputs": [],
   "source": [
    "import pandas as pd\n",
    "import os\n",
    "import networkx as nx\n",
    "from networkx.algorithms import bipartite, hits\n",
    "\n",
    "from utils import * "
   ]
  },
  {
   "cell_type": "code",
   "execution_count": 2,
   "id": "ddcaa5f7-c6cf-48ab-8cda-e53b04ed0ebf",
   "metadata": {},
   "outputs": [],
   "source": [
    "users = load_chunks(\"../VoterFraud2020-main/data/users\")\n",
    "retweets = load_chunks(\"../VoterFraud2020-main/data/retweets\")\n",
    "tweets = load_chunks(\"../VoterFraud2020-main/data/tweets\")"
   ]
  },
  {
   "cell_type": "markdown",
   "id": "9bbcafc1-b571-4608-a8ce-661b7a54494f",
   "metadata": {},
   "source": [
    "<h2>Construct retweet network</h2>"
   ]
  },
  {
   "cell_type": "code",
   "execution_count": 3,
   "id": "c44a4f27-10c4-4287-a961-b9d3787bae6f",
   "metadata": {},
   "outputs": [],
   "source": [
    "retweets_to_users = retweets.merge(users[['user_id', 'user_active_status']], on = 'user_id')\n",
    "retweets_to_users = retweets_to_users.rename(columns = {'user_id': 'rt_user_id'})"
   ]
  },
  {
   "cell_type": "code",
   "execution_count": 4,
   "id": "680ebcf1-f9f6-44ea-9984-c2d592bf13b4",
   "metadata": {},
   "outputs": [],
   "source": [
    "retweets.columns = ['tweet_id', 'rting_user_id']"
   ]
  },
  {
   "cell_type": "code",
   "execution_count": 5,
   "id": "cecf9282-7474-4677-aa91-aebba8ec47e2",
   "metadata": {},
   "outputs": [],
   "source": [
    "retweets_to_tweets = tweets.merge(retweets, on = 'tweet_id', how = 'left')"
   ]
  },
  {
   "cell_type": "code",
   "execution_count": 7,
   "id": "889558e2-6bda-4f92-81e4-6ca0c2e3c3ce",
   "metadata": {},
   "outputs": [],
   "source": [
    "#prototyping subset \n",
    "retweets_to_tweets = retweets_to_tweets.sample(100000)"
   ]
  },
  {
   "cell_type": "code",
   "execution_count": 29,
   "id": "3e965656-b50a-44e6-a3b7-af45b5af8eae",
   "metadata": {},
   "outputs": [],
   "source": [
    "G = nx.Graph()\n",
    "G.add_nodes_from(retweets_to_tweets['tweet_id'], bipartite = 1)\n",
    "G.add_nodes_from(retweets_to_tweets['rting_user_id'].astype(str), bipartite = 0)\n",
    "\n",
    "G.add_edges_from([(row['rting_user_id'], row['tweet_id']) for idx, row in retweets_to_tweets.iterrows()])"
   ]
  },
  {
   "cell_type": "code",
   "execution_count": 9,
   "id": "d0948638-c7cf-4bfe-ac1d-4ccf37d10af5",
   "metadata": {},
   "outputs": [
    {
     "data": {
      "text/plain": [
       "False"
      ]
     },
     "execution_count": 9,
     "metadata": {},
     "output_type": "execute_result"
    }
   ],
   "source": [
    "nx.is_connected(G)"
   ]
  },
  {
   "cell_type": "markdown",
   "id": "16331c6c-a0d9-4e31-b18f-4452d23f535e",
   "metadata": {},
   "source": [
    "<h2>HITS Algorithm</h2>"
   ]
  },
  {
   "cell_type": "code",
   "execution_count": 30,
   "id": "5edf5b07-5155-4fb2-817f-2b947bde2c30",
   "metadata": {},
   "outputs": [],
   "source": [
    "h, a = nx.hits(G, max_iter = 500)"
   ]
  },
  {
   "cell_type": "code",
   "execution_count": 31,
   "id": "d1354662-2883-44ab-96a5-936e371fcf84",
   "metadata": {},
   "outputs": [],
   "source": [
    "hubs = pd.DataFrame(h.items())\n",
    "hubs.columns = ['id', 'hub_score']\n",
    "\n",
    "authorities = pd.DataFrame(a.items())\n",
    "authorities.columns = ['id', 'authority_score']"
   ]
  },
  {
   "cell_type": "code",
   "execution_count": 32,
   "id": "cd71526e-f42a-4e64-bb7f-369b52c0e05b",
   "metadata": {},
   "outputs": [
    {
     "data": {
      "text/html": [
       "<div>\n",
       "<style scoped>\n",
       "    .dataframe tbody tr th:only-of-type {\n",
       "        vertical-align: middle;\n",
       "    }\n",
       "\n",
       "    .dataframe tbody tr th {\n",
       "        vertical-align: top;\n",
       "    }\n",
       "\n",
       "    .dataframe thead th {\n",
       "        text-align: right;\n",
       "    }\n",
       "</style>\n",
       "<table border=\"1\" class=\"dataframe\">\n",
       "  <thead>\n",
       "    <tr style=\"text-align: right;\">\n",
       "      <th></th>\n",
       "      <th>id</th>\n",
       "      <th>authority_score</th>\n",
       "    </tr>\n",
       "  </thead>\n",
       "  <tbody>\n",
       "    <tr>\n",
       "      <th>467</th>\n",
       "      <td>1338871862315667456</td>\n",
       "      <td>-0.014940</td>\n",
       "    </tr>\n",
       "    <tr>\n",
       "      <th>1539</th>\n",
       "      <td>1327750127679889409</td>\n",
       "      <td>-0.000714</td>\n",
       "    </tr>\n",
       "    <tr>\n",
       "      <th>500</th>\n",
       "      <td>1336811823232921600</td>\n",
       "      <td>-0.000540</td>\n",
       "    </tr>\n",
       "    <tr>\n",
       "      <th>225</th>\n",
       "      <td>1332352538855747584</td>\n",
       "      <td>-0.000504</td>\n",
       "    </tr>\n",
       "    <tr>\n",
       "      <th>164</th>\n",
       "      <td>1333243285389914112</td>\n",
       "      <td>-0.000338</td>\n",
       "    </tr>\n",
       "    <tr>\n",
       "      <th>...</th>\n",
       "      <td>...</td>\n",
       "      <td>...</td>\n",
       "    </tr>\n",
       "    <tr>\n",
       "      <th>132388</th>\n",
       "      <td>270746819.0</td>\n",
       "      <td>0.004204</td>\n",
       "    </tr>\n",
       "    <tr>\n",
       "      <th>156588</th>\n",
       "      <td>1304241701687566336.0</td>\n",
       "      <td>0.004210</td>\n",
       "    </tr>\n",
       "    <tr>\n",
       "      <th>136046</th>\n",
       "      <td>1251981552180920320.0</td>\n",
       "      <td>0.004228</td>\n",
       "    </tr>\n",
       "    <tr>\n",
       "      <th>114797</th>\n",
       "      <td>909466149221519360.0</td>\n",
       "      <td>0.004238</td>\n",
       "    </tr>\n",
       "    <tr>\n",
       "      <th>144114</th>\n",
       "      <td>497351648.0</td>\n",
       "      <td>0.004338</td>\n",
       "    </tr>\n",
       "  </tbody>\n",
       "</table>\n",
       "<p>192827 rows × 2 columns</p>\n",
       "</div>"
      ],
      "text/plain": [
       "                           id  authority_score\n",
       "467       1338871862315667456        -0.014940\n",
       "1539      1327750127679889409        -0.000714\n",
       "500       1336811823232921600        -0.000540\n",
       "225       1332352538855747584        -0.000504\n",
       "164       1333243285389914112        -0.000338\n",
       "...                       ...              ...\n",
       "132388            270746819.0         0.004204\n",
       "156588  1304241701687566336.0         0.004210\n",
       "136046  1251981552180920320.0         0.004228\n",
       "114797   909466149221519360.0         0.004238\n",
       "144114            497351648.0         0.004338\n",
       "\n",
       "[192827 rows x 2 columns]"
      ]
     },
     "execution_count": 32,
     "metadata": {},
     "output_type": "execute_result"
    }
   ],
   "source": [
    "authorities.sort_values(by = 'authority_score')"
   ]
  },
  {
   "cell_type": "code",
   "execution_count": null,
   "id": "5b2199ff-46dc-4eac-9265-27d6a3ac117f",
   "metadata": {},
   "outputs": [],
   "source": []
  }
 ],
 "metadata": {
  "kernelspec": {
   "display_name": "Python 3 (ipykernel)",
   "language": "python",
   "name": "python3"
  },
  "language_info": {
   "codemirror_mode": {
    "name": "ipython",
    "version": 3
   },
   "file_extension": ".py",
   "mimetype": "text/x-python",
   "name": "python",
   "nbconvert_exporter": "python",
   "pygments_lexer": "ipython3",
   "version": "3.9.7"
  }
 },
 "nbformat": 4,
 "nbformat_minor": 5
}
