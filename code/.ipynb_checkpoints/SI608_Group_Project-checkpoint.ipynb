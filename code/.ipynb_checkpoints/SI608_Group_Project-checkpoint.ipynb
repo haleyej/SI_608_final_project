{
  "nbformat": 4,
  "nbformat_minor": 0,
  "metadata": {
    "colab": {
      "provenance": []
    },
    "kernelspec": {
      "name": "python3",
      "display_name": "Python 3"
    },
    "language_info": {
      "name": "python"
    }
  },
  "cells": [
    {
      "cell_type": "markdown",
      "source": [
        "TODO: To start, please save the shared drive as a shortcut to your drive, or make a copy of the entire drive. Then figure out the DRIVE_PATH below."
      ],
      "metadata": {
        "id": "cYbJX57qAY3d"
      }
    },
    {
      "cell_type": "code",
      "source": [
        "DRIVE_PATH = 'drive/My Drive/Colab Notebooks/SI 608'"
      ],
      "metadata": {
        "id": "SgVMTjhE-mTz"
      },
      "execution_count": null,
      "outputs": []
    },
    {
      "cell_type": "code",
      "source": [
        "from google.colab import drive\n",
        "drive.mount('/content/drive') # connect to Google Drive"
      ],
      "metadata": {
        "colab": {
          "base_uri": "https://localhost:8080/"
        },
        "id": "V-FGQmrb-z3N",
        "outputId": "1f849c37-f563-4c27-aa1d-e509009189fe"
      },
      "execution_count": null,
      "outputs": [
        {
          "output_type": "stream",
          "name": "stdout",
          "text": [
            "Mounted at /content/drive\n"
          ]
        }
      ]
    },
    {
      "cell_type": "code",
      "source": [
        "%load_ext autoreload\n",
        "%autoreload 2"
      ],
      "metadata": {
        "id": "x9zFggxO-3-M"
      },
      "execution_count": null,
      "outputs": []
    },
    {
      "cell_type": "code",
      "source": [
        "import os\n",
        "!pwd\n",
        "os.chdir(\"/content/\" + DRIVE_PATH)\n",
        "!ls"
      ],
      "metadata": {
        "colab": {
          "base_uri": "https://localhost:8080/"
        },
        "id": "ppmbVjzD-9az",
        "outputId": "1c1b2cc4-d904-40ac-d479-2b643d74485e"
      },
      "execution_count": null,
      "outputs": [
        {
          "output_type": "stream",
          "name": "stdout",
          "text": [
            "/content/drive/My Drive/Colab Notebooks/SI 608\n",
            "SI608_Group_Project.ipynb  VoterFraud2020-main\n"
          ]
        }
      ]
    },
    {
      "cell_type": "code",
      "execution_count": null,
      "metadata": {
        "id": "xJZBJrW8y2kU"
      },
      "outputs": [],
      "source": [
        "import pandas as pd\n",
        "import numpy as np\n",
        "import networkx as nx"
      ]
    },
    {
      "cell_type": "markdown",
      "source": [
        "Step 1: Loading Data from CSVs"
      ],
      "metadata": {
        "id": "GoMp_8hxzJ3U"
      }
    },
    {
      "cell_type": "code",
      "source": [
        "\"\"\"Convenient for loading data.\"\"\"\n",
        "def load_chunks(directory):\n",
        "    chunk_dfs = []\n",
        "    for name in sorted(os.listdir(directory)):\n",
        "        sub_directory = os.path.join(directory, name)\n",
        "        if os.path.isdir(sub_directory):\n",
        "            for filename in sorted(os.listdir(sub_directory)):\n",
        "                with open(os.path.join(sub_directory, filename), \"r\", encoding=\"utf-8\") as f:\n",
        "                    chunk = pd.read_csv(f, encoding = \"utf-8\")\n",
        "                    chunk_dfs.append(chunk)\n",
        "        elif name.endswith(\".csv\"):\n",
        "            chunk = pd.read_csv(os.path.join(directory, name), encoding = \"utf-8\")\n",
        "            chunk_dfs.append(chunk)\n",
        "\n",
        "    return pd.concat(chunk_dfs)"
      ],
      "metadata": {
        "id": "bV3Gaarhy7Wu"
      },
      "execution_count": null,
      "outputs": []
    },
    {
      "cell_type": "markdown",
      "source": [
        "Step 2: Network Creation"
      ],
      "metadata": {
        "id": "xv7j1O1VzQY9"
      }
    },
    {
      "cell_type": "code",
      "source": [
        "def create_network(df_retweets):\n",
        "    G = nx.DiGraph()\n",
        "    for _, row in df_retweets.iterrows():\n",
        "        G.add_edge(row['user_id'], row['retweeted_id'])  # Add an edge from retweeter to the original tweet's author\n",
        "    return G"
      ],
      "metadata": {
        "id": "bgqkQg1gzGZH"
      },
      "execution_count": null,
      "outputs": []
    },
    {
      "cell_type": "code",
      "source": [
        "df_retweets = load_chunks(\"./VoterFraud2020-main/data/retweets/\")\n",
        "G = create_network(df_retweets) # be careful, takes longer time than expected, mine run about 17 mins"
      ],
      "metadata": {
        "id": "urAY3b10zaX0"
      },
      "execution_count": null,
      "outputs": []
    },
    {
      "cell_type": "markdown",
      "source": [
        "Step 3: Centrality Measures"
      ],
      "metadata": {
        "id": "K_zyOuZMFw26"
      }
    },
    {
      "cell_type": "code",
      "source": [
        "def calculate_centrality_and_compare_influence(G, df_users):\n",
        "    centrality_measures = {\n",
        "        # centrality metrics, we can define our own\n",
        "        'degree': nx.degree_centrality(G),\n",
        "        'betweenness': nx.betweenness_centrality(G),\n",
        "        'eigenvector': nx.eigenvector_centrality(G, max_iter=1000, tol=1e-06)\n",
        "    }\n",
        "\n",
        "    # Convert centrality measures to DataFrame\n",
        "    centrality_df = pd.DataFrame(centrality_measures)\n",
        "\n",
        "    # Merge with user data\n",
        "    df_users_centrality = df_users.join(centrality_df, on='user_id')\n",
        "\n",
        "    # Sort by different measures to identify key accounts\n",
        "    for measure in centrality_measures:\n",
        "        df_users_centrality.sort_values(by=measure, ascending=False, inplace=True)\n",
        "        print(f\"Top users by {measure} centrality:\")\n",
        "        print(df_users_centrality[['user_id', measure, 'follower_count']].head())\n",
        "\n",
        "    return df_users_centrality"
      ],
      "metadata": {
        "id": "woRgGeZSAxP8"
      },
      "execution_count": null,
      "outputs": []
    },
    {
      "cell_type": "code",
      "source": [
        "df_users = load_chunks(\"./VoterFraud2020-main/data/users/\")\n",
        "df_users.info()"
      ],
      "metadata": {
        "colab": {
          "base_uri": "https://localhost:8080/"
        },
        "id": "En0HWrJhFApe",
        "outputId": "26dc87ce-6afd-44a8-a721-a1de7f151360"
      },
      "execution_count": null,
      "outputs": [
        {
          "output_type": "stream",
          "name": "stdout",
          "text": [
            "<class 'pandas.core.frame.DataFrame'>\n",
            "Int64Index: 2559018 entries, 0 to 59017\n",
            "Data columns (total 17 columns):\n",
            " #   Column                                  Dtype  \n",
            "---  ------                                  -----  \n",
            " 0   user_id                                 int64  \n",
            " 1   user_community                          float64\n",
            " 2   user_active_status                      object \n",
            " 3   closeness_centrality_detractor_cluster  float64\n",
            " 4   closeness_centrality_promoter_cluster   float64\n",
            " 5   retweet_count_by_community_0            int64  \n",
            " 6   quote_count_by_community_0              int64  \n",
            " 7   retweet_count_by_community_1            int64  \n",
            " 8   quote_count_by_community_1              int64  \n",
            " 9   retweet_count_by_community_2            int64  \n",
            " 10  quote_count_by_community_2              int64  \n",
            " 11  retweet_count_by_community_3            int64  \n",
            " 12  quote_count_by_community_3              int64  \n",
            " 13  retweet_count_by_community_4            int64  \n",
            " 14  quote_count_by_community_4              int64  \n",
            " 15  retweet_count_by_suspended_users        int64  \n",
            " 16  quote_count_by_suspended_users          int64  \n",
            "dtypes: float64(3), int64(13), object(1)\n",
            "memory usage: 351.4+ MB\n"
          ]
        }
      ]
    },
    {
      "cell_type": "code",
      "source": [
        "df_users_centrality = calculate_centrality_and_compare_influence(G, df_users)"
      ],
      "metadata": {
        "id": "VCocKyvGEgN_"
      },
      "execution_count": null,
      "outputs": []
    }
  ]
}